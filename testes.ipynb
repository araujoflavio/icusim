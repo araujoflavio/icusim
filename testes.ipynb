{
 "cells": [
  {
   "cell_type": "code",
   "execution_count": 1,
   "metadata": {},
   "outputs": [],
   "source": [
    "import simpy"
   ]
  },
  {
   "cell_type": "code",
   "execution_count": 2,
   "metadata": {},
   "outputs": [],
   "source": [
    "class Car(object):\n",
    "    def __init__(self, env):\n",
    "        self.env = env\n",
    "        # Start the run process everytime an instance is created.\n",
    "        self.action = env.process(self.run())\n",
    "\n",
    "    def run(self):\n",
    "        while True:\n",
    "            print('Start parking and charging at %d' % self.env.now)\n",
    "            charge_duration = 5\n",
    "            # We yield the process that process() returns\n",
    "            # to wait for it to finish\n",
    "            yield self.env.process(self.charge(charge_duration))\n",
    "\n",
    "            # The charge process has finished and\n",
    "            # we can start driving again.\n",
    "            print('Start driving at %d' % self.env.now)\n",
    "            trip_duration = 2\n",
    "            yield self.env.timeout(trip_duration)\n",
    "\n",
    "    def charge(self, duration):\n",
    "        yield self.env.timeout(duration)\n",
    "        "
   ]
  },
  {
   "cell_type": "code",
   "execution_count": 3,
   "metadata": {},
   "outputs": [
    {
     "name": "stdout",
     "output_type": "stream",
     "text": [
      "Start parking and charging at 0\n",
      "Start driving at 5\n",
      "Start parking and charging at 7\n",
      "Start driving at 12\n",
      "Start parking and charging at 14\n",
      "Start driving at 19\n",
      "Start parking and charging at 21\n",
      "Start driving at 26\n",
      "Start parking and charging at 28\n"
     ]
    }
   ],
   "source": [
    "env = simpy.Environment()\n",
    "car = Car(env)\n",
    "env.run(until=30)"
   ]
  },
  {
   "cell_type": "code",
   "execution_count": null,
   "metadata": {},
   "outputs": [],
   "source": [
    "import simpy\n",
    "\n",
    "env = simpy.Environment()\n",
    "\n",
    "# função para realizar o tempor de internação de um paciente\n",
    "def paciente(env, nome, tempo_internacao):\n",
    "    print(f'Entrada na UTI em {env.now} de {nome}' )\n",
    "    yield env.timeout(tempo_internacao)\n",
    "    print(f'Saída da UTI em {env.now} de {nome}')\n",
    "    \n",
    "# função para criar pacientes\n",
    "def cria_paciente(env):\n",
    "    paciente_nome = 0\n",
    "    intervalo_criacao = 2\n",
    "    tempo_internacao = 10\n",
    "    while True:\n",
    "        yield env.timeout(intervalo_criacao)\n",
    "        \n",
    "        print(f'Paciente {paciente_nome} criado em {env.now}')\n",
    "        env.process(paciente(env, paciente_nome, tempo_internacao))\n",
    "        paciente_nome += 1\n",
    "\n",
    "env.process(cria_paciente(env))\n",
    "env.run(until=30)\n"
   ]
  },
  {
   "cell_type": "code",
   "execution_count": null,
   "metadata": {},
   "outputs": [],
   "source": [
    "import simpy\n",
    "import random\n",
    "\n",
    "class icusim():\n",
    "    def __init__(self, env) -> None:\n",
    "        self.env = env\n",
    "        self.pacientes_solicitacao = 0\n",
    "        self.pacientes_internados = 0\n",
    "        self.pacientes_atendidos = 0\n",
    "        self.leitos = simpy.Resource(env, capacity=2)\n",
    "\n",
    "    def paciente(self, nome, tempo_internacao):\n",
    "        print(f'Paciente {nome} solicitando UTI em {self.env.now}')\n",
    "        leito_ocupado = self.leitos.request()\n",
    "        yield leito_ocupado\n",
    "        print(f'Entrada na UTI em {self.env.now} de {nome}' )\n",
    "        self.pacientes_internados += 1\n",
    "        yield self.env.timeout(tempo_internacao)\n",
    "        print(f'Saída da UTI em {self.env.now} de {nome}')\n",
    "        self.leitos.release(leito_ocupado)\n",
    "        self.pacientes_atendidos += 1\n",
    "        self.pacientes_internados -= 1\n",
    "\n",
    "    def cria_paciente(self):\n",
    "        paciente_nome = 0\n",
    "        tempo_internacao = 10\n",
    "        while True:\n",
    "            yield env.timeout(random.randint(1, 5))\n",
    "            self.pacientes_solicitacao += 1\n",
    "            print(f'Paciente {paciente_nome} criado em {env.now}')\n",
    "            env.process(self.paciente(paciente_nome, tempo_internacao))\n",
    "            paciente_nome += 1\n",
    "            \n",
    "            \n",
    "env = simpy.Environment()\n",
    "hospital = icusim(env)\n",
    "env.process(hospital.cria_paciente())\n",
    "env.run(until=30)\n",
    "\n",
    "print(f'Pacientes solicitados: {hospital.pacientes_solicitacao}')\n",
    "print(f'Pacientes internados: {hospital.pacientes_internados}')\n",
    "print(f'Pacientes atendidos: {hospital.pacientes_atendidos}')"
   ]
  },
  {
   "cell_type": "code",
   "execution_count": null,
   "metadata": {},
   "outputs": [],
   "source": [
    "# versão 2 \n",
    "import simpy\n",
    "import random\n",
    "import numpy as np\n",
    "\n",
    "class icusim():\n",
    "    def __init__(self, env) -> None:\n",
    "        \n",
    "        self.LEITOS_UTI = 10\n",
    "        \n",
    "        self.env = env\n",
    "        self.pacientes_solicitacao = 0\n",
    "        self.pacientes_internados = 0\n",
    "        self.pacientes_atendidos = 0\n",
    "        \n",
    "        self.leitos = simpy.Resource(env, capacity=self.LEITOS_UTI)\n",
    "\n",
    "    def paciente(self, nome, tempo_internacao):\n",
    "        print(f'Paciente {nome} solicitando UTI em {self.env.now}')\n",
    "        leito_ocupado = self.leitos.request()\n",
    "        yield leito_ocupado\n",
    "        print(f'Entrada na UTI em {self.env.now} de {nome}' )\n",
    "        self.pacientes_internados += 1\n",
    "        yield self.env.timeout(tempo_internacao)\n",
    "        print(f'Saída da UTI em {self.env.now} de {nome}')\n",
    "        self.leitos.release(leito_ocupado)\n",
    "        self.pacientes_atendidos += 1\n",
    "        self.pacientes_internados -= 1\n",
    "\n",
    "    def cria_paciente(self):\n",
    "        paciente_nome = 0\n",
    "        tempo_internacao = 7 * 24 # 10 dias\n",
    "        while True:\n",
    "            yield env.timeout(random.randint(2, 12))\n",
    "            self.pacientes_solicitacao += 1\n",
    "            print(f'Paciente {paciente_nome} criado em {env.now}')\n",
    "            env.process(self.paciente(paciente_nome, tempo_internacao))\n",
    "            paciente_nome += 1\n",
    "\n",
    "# unidade temporal é HORAS\n",
    "            \n",
    "env = simpy.Environment()\n",
    "hospital = icusim(env)\n",
    "env.process(hospital.cria_paciente())\n",
    "env.run(until=30*24)\n",
    "\n",
    "print(f'Pacientes solicitados: {hospital.pacientes_solicitacao}')\n",
    "print(f'Pacientes internados: {hospital.pacientes_internados}')\n",
    "print(f'Pacientes atendidos: {hospital.pacientes_atendidos}')"
   ]
  },
  {
   "cell_type": "code",
   "execution_count": null,
   "metadata": {},
   "outputs": [],
   "source": [
    "risco_obito_dia = 0.02\n",
    "dias = 20\n",
    "risco_obito = (1 + risco_obito_dia) ** dias - 1\n",
    "print(risco_obito)"
   ]
  },
  {
   "cell_type": "code",
   "execution_count": null,
   "metadata": {},
   "outputs": [],
   "source": [
    "# sorteia um número entre 0 e 1 em distribuição uniforme\n",
    "#random.uniform(0, 1)\n",
    "\n",
    "# sorteia um número entre 0 e 1 em distribuição normal\n",
    "random.normalvariate(0, 1)"
   ]
  },
  {
   "cell_type": "code",
   "execution_count": null,
   "metadata": {},
   "outputs": [],
   "source": [
    "mean = 1\n",
    "std = 0.5\n",
    "lista = []\n",
    "for i in range(1000):\n",
    "    #lista.append(random.normalvariate(mean, std))\n",
    "    lista.append(np.random.normal(mean, std))\n",
    "lista"
   ]
  },
  {
   "cell_type": "code",
   "execution_count": null,
   "metadata": {},
   "outputs": [],
   "source": [
    "def normalize(lst):\n",
    "    min_val = min(lst)\n",
    "    max_val = max(lst)\n",
    "    range_val = max_val - min_val\n",
    "    if range_val == 0:  # Avoid division by zero\n",
    "        return [0]*len(lst)\n",
    "    return [(num - min_val) / range_val for num in lst]"
   ]
  },
  {
   "cell_type": "code",
   "execution_count": null,
   "metadata": {},
   "outputs": [],
   "source": [
    "normalize(lista)"
   ]
  },
  {
   "cell_type": "code",
   "execution_count": null,
   "metadata": {},
   "outputs": [],
   "source": []
  }
 ],
 "metadata": {
  "kernelspec": {
   "display_name": "venv",
   "language": "python",
   "name": "python3"
  },
  "language_info": {
   "codemirror_mode": {
    "name": "ipython",
    "version": 3
   },
   "file_extension": ".py",
   "mimetype": "text/x-python",
   "name": "python",
   "nbconvert_exporter": "python",
   "pygments_lexer": "ipython3",
   "version": "3.11.8"
  }
 },
 "nbformat": 4,
 "nbformat_minor": 2
}
